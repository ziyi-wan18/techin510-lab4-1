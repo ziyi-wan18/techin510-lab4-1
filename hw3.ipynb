{
 "cells": [
  {
   "cell_type": "markdown",
   "metadata": {},
   "source": [
    "# Practice Problems"
   ]
  },
  {
   "cell_type": "markdown",
   "metadata": {},
   "source": [
    "### Problem 1: Email Extraction\n",
    "\n",
    "**Problem**: Extract emails from a given string.  \n",
    "**String**: \"Contact us at support@example.com or sales@example.org\"\n",
    "\n",
    "[\"support@example.com\", \"sales@example.org\"]"
   ]
  },
  {
   "cell_type": "code",
   "execution_count": null,
   "metadata": {},
   "outputs": [],
   "source": [
    "import re\n",
    "\n",
    "# Given string\n",
    "text = \"Contact us at support@example.com or sales@example.org\"\n",
    "\n",
    "# Regular expression pattern for matching an email\n",
    "email_pattern = r\"[a-zA-Z0-9_.+-]+@[a-zA-Z0-9-]+\\.[a-zA-Z0-9-.]+\"\n",
    "\n",
    "# Extracting the emails\n",
    "emails = re.findall(email_pattern, text)\n",
    "emails\n"
   ]
  },
  {
   "cell_type": "markdown",
   "metadata": {},
   "source": [
    "### Problem 2: Phone Number Validation\n",
    "\n",
    "**Problem**: Validate and extract US phone numbers in the format xxx-xxx-xxxx.  \n",
    "**String**: \"My numbers are 123-456-7890 or 333-333-3333\""
   ]
  },
  {
   "cell_type": "code",
   "execution_count": null,
   "metadata": {},
   "outputs": [
    {
     "ename": "",
     "evalue": "",
     "output_type": "error",
     "traceback": [
      "\u001b[1;31m运行具有“/Users/apple/Desktop/Tech 510/techin510-lab3-main/.conda/bin/python”的单元格需要ipykernel包。\n",
      "\u001b[1;31m运行以下命令，将 \"ipykernel\" 安装到 Python 环境中。\n",
      "\u001b[1;31m命令: \"conda install -p /Users/apple/Desktop/Tech 510/techin510-lab3-main/.conda ipykernel --update-deps --force-reinstall\""
     ]
    }
   ],
   "source": [
    "import re\n",
    "import requests\n",
    "\n",
    "# URL to extract phone numbers from\n",
    "url = \"https://visitseattle.org/contact-us/\"\n",
    "\n",
    "# Send a GET request to the URL\n",
    "response = requests.get(url)\n",
    "\n",
    "# Check if the request was successful\n",
    "if response.status_code == 200:\n",
    "    # Regular expression for matching US phone numbers in the format xxx-xxx-xxxx\n",
    "    phone_number_regex = r'\\b\\d{3}.\\d{3}.\\d{4}\\b'\n",
    "\n",
    "    # Extracting phone numbers\n",
    "    extracted_phone_numbers = re.findall(phone_number_regex, response.text)\n",
    "    print(extracted_phone_numbers)\n",
    "else:\n",
    "    print(\"Failed to retrieve the webpage.\")"
   ]
  },
  {
   "cell_type": "markdown",
   "metadata": {},
   "source": [
    "### Problem 3: Password Strength Check\n",
    "\n",
    "**Problem**: Check if a password is at least 8 characters long, contains a digit, an uppercase, and a lowercase letter.  \n",
    "**String**: \"Password1\""
   ]
  },
  {
   "cell_type": "code",
   "execution_count": null,
   "metadata": {},
   "outputs": [],
   "source": [
    "# Given password\n",
    "password = \"Password1\"\n",
    "\n",
    "# Criteria\n",
    "length_criteria = len(password) >= 8\n",
    "digit_criteria = re.search(r\"\\d\", password) is not None\n",
    "uppercase_criteria = re.search(r\"[A-Z]\", password) is not None\n",
    "lowercase_criteria = re.search(r\"[a-z]\", password) is not None\n",
    "\n",
    "# Check if all criteria are met\n",
    "is_strong_password = length_criteria and digit_criteria and uppercase_criteria and lowercase_criteria\n",
    "is_strong_password"
   ]
  },
  {
   "cell_type": "markdown",
   "metadata": {},
   "source": [
    "### Problem 4: Extracting Domain Name\n",
    "\n",
    "**Problem**: Extract the domain name from an email address.  \n",
    "**String**: \"user@example.com\""
   ]
  },
  {
   "cell_type": "code",
   "execution_count": null,
   "metadata": {},
   "outputs": [],
   "source": [
    "email = \"user@example.com\"\n",
    "domain = email.split('@')[1]\n",
    "print(domain)"
   ]
  },
  {
   "cell_type": "markdown",
   "metadata": {},
   "source": [
    "### Problem 5: Validating an IP Address\n",
    "\n",
    "**Problem**: Check if a string is a valid IPv4 address.  \n",
    "**String**: \"192.168.1.1\""
   ]
  },
  {
   "cell_type": "code",
   "execution_count": null,
   "metadata": {},
   "outputs": [],
   "source": [
    "def is_valid_ipv4(ip):\n",
    "    # Split the IP address into parts\n",
    "    parts = ip.split(\".\")\n",
    "\n",
    "    # Check if there are exactly four parts\n",
    "    if len(parts) != 4:\n",
    "        return False\n",
    "\n",
    "    for part in parts:\n",
    "        # Check if each part is a number and within the range 0 to 255\n",
    "        try:\n",
    "            if not 0 <= int(part) <= 255:\n",
    "                return False\n",
    "        except ValueError:\n",
    "            # Part is not a number\n",
    "            return False\n",
    "\n",
    "    return True\n",
    "\n",
    "# Test the function\n",
    "ip_address = \"192.168.1.1\"\n",
    "print(is_valid_ipv4(ip_address))"
   ]
  }
 ],
 "metadata": {
  "kernelspec": {
   "display_name": "Python 3",
   "language": "python",
   "name": "python3"
  },
  "language_info": {
   "codemirror_mode": {
    "name": "ipython",
    "version": 3
   },
   "file_extension": ".py",
   "mimetype": "text/x-python",
   "name": "python",
   "nbconvert_exporter": "python",
   "pygments_lexer": "ipython3",
   "version": "3.11.7"
  }
 },
 "nbformat": 4,
 "nbformat_minor": 2
}
